{
  "nbformat": 4,
  "nbformat_minor": 0,
  "metadata": {
    "kernelspec": {
      "name": "python385jvsc74a57bd00d3e69112dd70888de3a4be91ca62911df3c25da0658dc328afc65d40e89ead9",
      "display_name": "Python 3.8.5 64-bit (conda)"
    },
    "language_info": {
      "codemirror_mode": {
        "name": "ipython",
        "version": 3
      },
      "file_extension": ".py",
      "mimetype": "text/x-python",
      "name": "python",
      "nbconvert_exporter": "python",
      "pygments_lexer": "ipython3",
      "version": "3.8.5-final"
    },
    "colab": {
      "name": "BotG.ipynb",
      "provenance": [],
      "machine_shape": "hm",
      "include_colab_link": true
    },
    "accelerator": "GPU"
  },
  "cells": [
    {
      "cell_type": "markdown",
      "metadata": {
        "id": "view-in-github",
        "colab_type": "text"
      },
      "source": [
        "<a href=\"https://colab.research.google.com/github/tonyamf/IR/blob/main/BotG.ipynb\" target=\"_parent\"><img src=\"https://colab.research.google.com/assets/colab-badge.svg\" alt=\"Open In Colab\"/></a>"
      ]
    },
    {
      "cell_type": "code",
      "metadata": {
        "colab": {
          "base_uri": "https://localhost:8080/",
          "height": 367
        },
        "id": "PBoUmCXr1nRz",
        "outputId": "8cd3e992-1b93-4f1c-b3ed-f30bae5a1418"
      },
      "source": [
        "from selenium import webdriver\n",
        "from selenium.webdriver.chrome.options import Options\n",
        "from selenium.webdriver.common.by import By\n",
        "from selenium.webdriver.support.ui import WebDriverWait\n",
        "from selenium.webdriver.support import expected_conditions as EC\n",
        "from selenium.common.exceptions import TimeoutException, WebDriverException\n",
        "import time"
      ],
      "execution_count": 1,
      "outputs": [
        {
          "output_type": "error",
          "ename": "ModuleNotFoundError",
          "evalue": "ignored",
          "traceback": [
            "\u001b[0;31m---------------------------------------------------------------------------\u001b[0m",
            "\u001b[0;31mModuleNotFoundError\u001b[0m                       Traceback (most recent call last)",
            "\u001b[0;32m<ipython-input-1-e84e019ab28d>\u001b[0m in \u001b[0;36m<module>\u001b[0;34m()\u001b[0m\n\u001b[0;32m----> 1\u001b[0;31m \u001b[0;32mfrom\u001b[0m \u001b[0mselenium\u001b[0m \u001b[0;32mimport\u001b[0m \u001b[0mwebdriver\u001b[0m\u001b[0;34m\u001b[0m\u001b[0;34m\u001b[0m\u001b[0m\n\u001b[0m\u001b[1;32m      2\u001b[0m \u001b[0;32mfrom\u001b[0m \u001b[0mselenium\u001b[0m\u001b[0;34m.\u001b[0m\u001b[0mwebdriver\u001b[0m\u001b[0;34m.\u001b[0m\u001b[0mchrome\u001b[0m\u001b[0;34m.\u001b[0m\u001b[0moptions\u001b[0m \u001b[0;32mimport\u001b[0m \u001b[0mOptions\u001b[0m\u001b[0;34m\u001b[0m\u001b[0;34m\u001b[0m\u001b[0m\n\u001b[1;32m      3\u001b[0m \u001b[0;32mfrom\u001b[0m \u001b[0mselenium\u001b[0m\u001b[0;34m.\u001b[0m\u001b[0mwebdriver\u001b[0m\u001b[0;34m.\u001b[0m\u001b[0mcommon\u001b[0m\u001b[0;34m.\u001b[0m\u001b[0mby\u001b[0m \u001b[0;32mimport\u001b[0m \u001b[0mBy\u001b[0m\u001b[0;34m\u001b[0m\u001b[0;34m\u001b[0m\u001b[0m\n\u001b[1;32m      4\u001b[0m \u001b[0;32mfrom\u001b[0m \u001b[0mselenium\u001b[0m\u001b[0;34m.\u001b[0m\u001b[0mwebdriver\u001b[0m\u001b[0;34m.\u001b[0m\u001b[0msupport\u001b[0m\u001b[0;34m.\u001b[0m\u001b[0mui\u001b[0m \u001b[0;32mimport\u001b[0m \u001b[0mWebDriverWait\u001b[0m\u001b[0;34m\u001b[0m\u001b[0;34m\u001b[0m\u001b[0m\n\u001b[1;32m      5\u001b[0m \u001b[0;32mfrom\u001b[0m \u001b[0mselenium\u001b[0m\u001b[0;34m.\u001b[0m\u001b[0mwebdriver\u001b[0m\u001b[0;34m.\u001b[0m\u001b[0msupport\u001b[0m \u001b[0;32mimport\u001b[0m \u001b[0mexpected_conditions\u001b[0m \u001b[0;32mas\u001b[0m \u001b[0mEC\u001b[0m\u001b[0;34m\u001b[0m\u001b[0;34m\u001b[0m\u001b[0m\n",
            "\u001b[0;31mModuleNotFoundError\u001b[0m: No module named 'selenium'",
            "",
            "\u001b[0;31m---------------------------------------------------------------------------\u001b[0;32m\nNOTE: If your import is failing due to a missing package, you can\nmanually install dependencies using either !pip or !apt.\n\nTo view examples of installing some common dependencies, click the\n\"Open Examples\" button below.\n\u001b[0;31m---------------------------------------------------------------------------\u001b[0m\n"
          ]
        }
      ]
    },
    {
      "cell_type": "code",
      "metadata": {
        "id": "x9JMvx2T1nSB",
        "outputId": "17269821-522a-455f-f3c6-a6cc671b20bd"
      },
      "source": [
        "url = 'https://scholar.google.co.uk/citations?view_op=view_org&hl=en&org=9117984065169182779&after_author=XrAUAf3___8J&astart=690'#'https://scholar.google.co.uk/citations?view_op=view_org&hl=en&org=9117984065169182779'\n",
        "# I should put sleep somewhere\n",
        "\n",
        "options = Options()\n",
        "options.add_argument(\"start-maximized\")\n",
        "options.add_argument(\"disable-infobars\")\n",
        "options.add_argument(\"--disable-extensions\")\n",
        "driver = webdriver.Chrome(chrome_options=options, executable_path='C:/Users/Antonio franco/chromedriver_win32/chromedriver.exe')\n",
        "driver.get(url)\n",
        "\n",
        "\n",
        "print(Strings)\n",
        "previous= \"\"\n",
        "stop = 0\n",
        "while True:\n",
        "    try:\n",
        "        # elemts = driver.find_element_by_xpath('//*[@id=\"gsc_authors_bottom_pag\"]/div/span').text\n",
        "        # Strings = elemts.split(\" \")\n",
        "        # # st = Strings[0]\n",
        "        # # num = int(st)\n",
        "        # if int(Strings[0]) == int(Strings[2]):\n",
        "        #     break\n",
        "        if(previous == driver.find_element_by_xpath('//*[@id=\"gsc_authors_bottom_pag\"]/div/span').text):\n",
        "            break\n",
        "        previous = driver.find_element_by_xpath('//*[@id=\"gsc_authors_bottom_pag\"]/div/span').text\n",
        "        #elemts = driver.find_elements_by_xpath('//*[@id=\"gsc_sa_ccl\"]/div/div/div/h3/a')\n",
        "        element = driver.find_elements_by_xpath('//*[@id=\"gsc_sa_ccl\"]/div/div/div/h3/a')\n",
        "        print(len(element))\n",
        "        for i in range(0, len(element)):\n",
        "            elem = driver.find_elements_by_xpath('//*[@id=\"gsc_sa_ccl\"]/div/div/div/h3/a')[i]\n",
        "            link = elem.get_attribute('href')\n",
        "            time.sleep(1)\n",
        "            elem.click()\n",
        "            thing =\"\"\n",
        "            while True:\n",
        "                try:\n",
        "                    time.sleep(1)\n",
        "                    if driver.find_element_by_xpath('//*[@id=\"gsc_a_nn\"]').text != thing:\n",
        "                        thing = driver.find_element_by_xpath('//*[@id=\"gsc_a_nn\"]').text\n",
        "                        driver.find_element_by_xpath('//*[@id=\"gsc_bpf_more\"]/span/span[2]').click()\n",
        "                        print(\"Navigating to Next Page\")\n",
        "                    else:\n",
        "                        print (\"Last page reached\")\n",
        "                        break\n",
        "                except (TimeoutException, WebDriverException) as e:\n",
        "                    print (\"Last page reached\")\n",
        "                    break\n",
        "            Strings = thing.split(\" \")\n",
        "            st = Strings[1].split(\"–\")\n",
        "            num = int(st[1])\n",
        "            \n",
        "            num_articles = driver.find_elements_by_xpath('//*[@id=\"gsc_a_b\"]/tr/td[1]/a')\n",
        "            for i in range(0, len(num_articles.size)):\n",
        "                paper = driver.find_elements_by_xpath('//*[@id=\"gsc_a_b\"]/tr/td[1]/a')[i]\n",
        "                link_paper = paper.get_attribute('href')\n",
        "                # Get paper title\n",
        "                xPath_paper_title = '//*[@id=\"gsc_vcd_title\"]'\n",
        "                time.sleep(2)\n",
        "                paper_titles = driver.find_element_by_xpath(xPath_paper_title)\n",
        "                #for paper_title in paper_titles:\n",
        "                titles.append(paper_titles.text)\n",
        "\n",
        "                # Get authors\n",
        "                xPath_author = '//*[@id=\"gsc_vcd_table\"]/div[1]/div[2]'\n",
        "                time.sleep(2)\n",
        "                authors = driver.find_element_by_xpath(xPath_author)\n",
        "                #for author in authors:\n",
        "                users.append(authors.text)\n",
        "\n",
        "                # Get description\n",
        "                xPath_body = '//*[@id=\"gsc_vcd_table\"]'\n",
        "                body = driver.find_element_by_xpath(xPath_body)\n",
        "                #                 xPath_description = '//*[@id=\"gsc_vcd_descr\"]'\n",
        "                #                 time.sleep(2)\n",
        "                #                 descriptions = driver.find_element_by_xpath(xPath_description)\n",
        "                if 'Description' in body.text:\n",
        "                    xPath_description = '//*[@id=\"gsc_vcd_descr\"]'\n",
        "                    time.sleep(2)\n",
        "                    descriptions = driver.find_element_by_xpath(xPath_description)\n",
        "                    paper_descriptions.append(descriptions.text)\n",
        "                else:\n",
        "                    paper_descriptions.append('N/A')\n",
        "                    close_bt = driver.find_element_by_xpath('//*[@id=\"gs_md_cita-d-x\"]')\n",
        "                    close_bt.click()  \n",
        "                    time.sleep(1)\n",
        "                    paper.click()\n",
        "                    time.sleep(1)\n",
        "                    driver.back()\n",
        "                    time.sleep(1)\n",
        "\n",
        "            time.sleep(1)\n",
        "            #driver.execute_script(\"window.history.go(-2)\")\n",
        "            driver.back()\n",
        "            time.sleep(1)\n",
        "            #driver.refresh()\n",
        "            #driver.back()\n",
        "            print(link)\n",
        "        time.sleep(1)\n",
        "        bt=driver.find_elements_by_xpath('//*[@id=\"gsc_authors_bottom_pag\"]/div/button[2]')[0]\n",
        "        bt.click()\n",
        "        #table =  driver.find_element_by_xpath('//*[@id=\"gsc_sa_ccl\"]')\n",
        "\n",
        "\n",
        "        #for row in table.find_elements_by_xpath(\".//tr\"):\n",
        "            #print([td.text for td in row.find_elements_by_xpath(\".//td[@class='dddefault'][1]\"])\n",
        "        #for table in driver.find_elements_by_xpath('//*[@id=\"gsc_sa_ccl\"]'):\n",
        "            #print(table)\n",
        "            #for data in get_row_data(table):\n",
        "                #print(data)\n",
        "        print(\"Navigating to Next Page\")\n",
        "    except (TimeoutException, WebDriverException) as e:\n",
        "        print(\"Last page reached\")\n",
        "        break\n",
        "driver.quit()"
      ],
      "execution_count": null,
      "outputs": [
        {
          "output_type": "stream",
          "text": [
            "<ipython-input-74-b8d74a03f158>:8: DeprecationWarning: use options instead of chrome_options\n",
            "  driver = webdriver.Chrome(chrome_options=options, executable_path='C:/Users/Antonio franco/chromedriver_win32/chromedriver.exe')\n",
            "['691', '-', '696']\n",
            "6\n",
            "https://scholar.google.co.uk/citations?hl=en&user=TmGPZQQAAAAJ\n",
            "https://scholar.google.co.uk/citations?hl=en&user=prMhPm8AAAAJ\n",
            "https://scholar.google.co.uk/citations?hl=en&user=mOTywDEAAAAJ\n",
            "https://scholar.google.co.uk/citations?hl=en&user=3is_mUAAAAAJ\n",
            "https://scholar.google.co.uk/citations?hl=en&user=XgGkA1QAAAAJ\n",
            "https://scholar.google.co.uk/citations?hl=en&user=-lZihQgAAAAJ\n",
            "Navigating to Next Page\n"
          ],
          "name": "stderr"
        }
      ]
    },
    {
      "cell_type": "code",
      "metadata": {
        "id": "vqIDUtW31nSG"
      },
      "source": [
        "driver.quit()"
      ],
      "execution_count": null,
      "outputs": []
    },
    {
      "cell_type": "code",
      "metadata": {
        "id": "-oTOneki1nSG"
      },
      "source": [
        "url = 'https://scholar.google.co.uk/citations?view_op=view_org&hl=en&org=9117984065169182779'\n",
        "driver = webdriver.Chrome(executable_path='C:/Users/giorg/chromedriver_win32/chromedriver.exe')\n",
        "driver.implicitly_wait(5)\n",
        "driver.maximize_window()\n",
        "driver.get(url)\n",
        "\n",
        "sleep(5)"
      ],
      "execution_count": null,
      "outputs": []
    },
    {
      "cell_type": "code",
      "metadata": {
        "id": "gtz8jc3Y1nSH"
      },
      "source": [
        "link = driver.find_element_by_link_text(\"\")"
      ],
      "execution_count": null,
      "outputs": []
    },
    {
      "cell_type": "code",
      "metadata": {
        "id": "grh_Yg1P1nSI"
      },
      "source": [
        "names = driver.find_elements_by_xpath('//*[@id=\"gsc_sa_ccl\"]/div/div/div/h3/a')\n",
        "status = driver.find_element_by_xpath('//*[@id=\"gsc_sa_ccl\"]/div/div/div/div[1]')\n",
        "cited_by = driver.find_element_by_xpath('//*[@id=\"gsc_sa_ccl\"]/div/div/div/div[3]')\n",
        "keywords = driver.find_element_by_xpath('//*[@id=\"gsc_sa_ccl\"]/div/div/div/div[4]')\n",
        "\n",
        "\n",
        "sleep(5)"
      ],
      "execution_count": null,
      "outputs": []
    },
    {
      "cell_type": "code",
      "metadata": {
        "id": "nIK2Kict1nSJ",
        "outputId": "a98b1231-c865-41ee-ebe6-f6b2b56b9865"
      },
      "source": [
        "num_page_items = len(names)\n",
        "for i in range(num_page_items):\n",
        "    print(names[i].text + \" : \" + status[i].text  + \" : \" + cited_by[i].text  + \" : \" + keywords[i].text)"
      ],
      "execution_count": null,
      "outputs": [
        {
          "output_type": "error",
          "ename": "TypeError",
          "evalue": "'WebElement' object is not subscriptable",
          "traceback": [
            "\u001b[1;31m---------------------------------------------------------------------------\u001b[0m",
            "\u001b[1;31mTypeError\u001b[0m                                 Traceback (most recent call last)",
            "\u001b[1;32m<ipython-input-8-b8f865bc525a>\u001b[0m in \u001b[0;36m<module>\u001b[1;34m\u001b[0m\n\u001b[0;32m      1\u001b[0m \u001b[0mnum_page_items\u001b[0m \u001b[1;33m=\u001b[0m \u001b[0mlen\u001b[0m\u001b[1;33m(\u001b[0m\u001b[0mnames\u001b[0m\u001b[1;33m)\u001b[0m\u001b[1;33m\u001b[0m\u001b[1;33m\u001b[0m\u001b[0m\n\u001b[0;32m      2\u001b[0m \u001b[1;32mfor\u001b[0m \u001b[0mi\u001b[0m \u001b[1;32min\u001b[0m \u001b[0mrange\u001b[0m\u001b[1;33m(\u001b[0m\u001b[0mnum_page_items\u001b[0m\u001b[1;33m)\u001b[0m\u001b[1;33m:\u001b[0m\u001b[1;33m\u001b[0m\u001b[1;33m\u001b[0m\u001b[0m\n\u001b[1;32m----> 3\u001b[1;33m     \u001b[0mprint\u001b[0m\u001b[1;33m(\u001b[0m\u001b[0mnames\u001b[0m\u001b[1;33m[\u001b[0m\u001b[0mi\u001b[0m\u001b[1;33m]\u001b[0m\u001b[1;33m.\u001b[0m\u001b[0mtext\u001b[0m \u001b[1;33m+\u001b[0m \u001b[1;34m\" : \"\u001b[0m \u001b[1;33m+\u001b[0m \u001b[0mstatus\u001b[0m\u001b[1;33m[\u001b[0m\u001b[0mi\u001b[0m\u001b[1;33m]\u001b[0m\u001b[1;33m.\u001b[0m\u001b[0mtext\u001b[0m  \u001b[1;33m+\u001b[0m \u001b[1;34m\" : \"\u001b[0m \u001b[1;33m+\u001b[0m \u001b[0mcited_by\u001b[0m\u001b[1;33m[\u001b[0m\u001b[0mi\u001b[0m\u001b[1;33m]\u001b[0m\u001b[1;33m.\u001b[0m\u001b[0mtext\u001b[0m  \u001b[1;33m+\u001b[0m \u001b[1;34m\" : \"\u001b[0m \u001b[1;33m+\u001b[0m \u001b[0mkeywords\u001b[0m\u001b[1;33m[\u001b[0m\u001b[0mi\u001b[0m\u001b[1;33m]\u001b[0m\u001b[1;33m.\u001b[0m\u001b[0mtext\u001b[0m\u001b[1;33m)\u001b[0m\u001b[1;33m\u001b[0m\u001b[1;33m\u001b[0m\u001b[0m\n\u001b[0m",
            "\u001b[1;31mTypeError\u001b[0m: 'WebElement' object is not subscriptable"
          ]
        }
      ]
    },
    {
      "cell_type": "code",
      "metadata": {
        "id": "6WEp_nYA1nSK"
      },
      "source": [
        "driver.close()\n"
      ],
      "execution_count": null,
      "outputs": []
    },
    {
      "cell_type": "code",
      "metadata": {
        "id": "Cr7QuenZ1nSK"
      },
      "source": [
        ""
      ],
      "execution_count": null,
      "outputs": []
    }
  ]
}